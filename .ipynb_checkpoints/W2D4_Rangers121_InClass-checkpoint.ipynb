{
 "cells": [
  {
   "cell_type": "markdown",
   "metadata": {},
   "source": [
    "# User-Defined Functions & Scoping"
   ]
  },
  {
   "cell_type": "markdown",
   "metadata": {},
   "source": [
    "## Tasks Today:\n",
    "\n",
    "\n",
    "1) Functions <br>\n",
    " &nbsp;&nbsp;&nbsp;&nbsp; a) User-Defined vs. Built-In Functions <br>\n",
    " &nbsp;&nbsp;&nbsp;&nbsp; b) Accepting Parameters <br>\n",
    " &nbsp;&nbsp;&nbsp;&nbsp; c) Default Parameters <br>\n",
    " &nbsp;&nbsp;&nbsp;&nbsp; d) Making an Argument Optional <br>\n",
    " &nbsp;&nbsp;&nbsp;&nbsp; e) Keyword Arguments <br>\n",
    " &nbsp;&nbsp;&nbsp;&nbsp; f) Returning Values <br>\n",
    " &nbsp;&nbsp;&nbsp;&nbsp; g) *args <br>\n",
    " &nbsp;&nbsp;&nbsp;&nbsp; h) Docstring <br>\n",
    " &nbsp;&nbsp;&nbsp;&nbsp; i) Using a User Function in a Loop <br>\n",
    "2) Scope\n",
    "3) Creating more User-Defined functions "
   ]
  },
  {
   "cell_type": "markdown",
   "metadata": {},
   "source": [
    "\n",
    "## Functions"
   ]
  },
  {
   "cell_type": "markdown",
   "metadata": {},
   "source": [
    "##### User-Defined vs. Built-In Functions"
   ]
  },
  {
   "cell_type": "code",
   "execution_count": null,
   "metadata": {},
   "outputs": [],
   "source": [
    "#built-in functions\n",
    "\n",
    "#print()\n",
    "#len()\n",
    "#range()\n",
    "#min()\n",
    "#max()\n",
    "#abd()\n",
    "\n",
    "#user-defined function\n",
    "\n",
    "#def name_of_function(parameter):\n",
    "    #'''Comment explaining what function will do.'''\n",
    "    ##code block\n",
    "    ##code block\n"
   ]
  },
  {
   "cell_type": "markdown",
   "metadata": {},
   "source": [
    "##### Accepting Parameters"
   ]
  },
  {
   "cell_type": "code",
   "execution_count": 5,
   "metadata": {
    "scrolled": true
   },
   "outputs": [
    {
     "name": "stdout",
     "output_type": "stream",
     "text": [
      "Hello, Eduardo.\n",
      "The green ran cat across the street.\n"
     ]
    }
   ],
   "source": [
    "# elements passed into a function\n",
    "# variables to hold the place of items our function\n",
    "#will act upon\n",
    "# order matters\n",
    "# a parameter can be of any object type (data type)\n",
    "\n",
    "#parameter when naming function - argument when calling\n",
    "def say_hello(username):\n",
    "    print(f'Hello, {username.title()}.')\n",
    "say_hello('eduardo') #'eduardo' is now an argument\n",
    "\n",
    "\n",
    "#why order of arguments matters\n",
    "def make_sentence(noun, verb, adjective):\n",
    "    print(f'The {adjective} {noun} {verb} across the street.')\n",
    "\n",
    "make_sentence('ran', 'cat', 'green')\n",
    "\n"
   ]
  },
  {
   "cell_type": "markdown",
   "metadata": {},
   "source": [
    "##### Default Parameters"
   ]
  },
  {
   "cell_type": "code",
   "execution_count": 8,
   "metadata": {},
   "outputs": [
    {
     "name": "stdout",
     "output_type": "stream",
     "text": [
      "The name is Bond...James Bond.\n",
      "The name is Squarepants...Spongebob Squarepants.\n"
     ]
    }
   ],
   "source": [
    "# default parameters must always come\n",
    "#after non-default parameters at all times\n",
    "#forever and ever...or else\n",
    "def agent_name(fname, lname):\n",
    "    print(f'The name is {lname}...{fname} {lname}.')\n",
    "    \n",
    "##missing 1 positional argument\n",
    "# agent_name('James')\n",
    "\n",
    "##with default\n",
    "#can pass with one argument but can still use two\n",
    "#and override default\n",
    "def agent_name(fname, lname='Bond'):\n",
    "    print(f'The name is {lname}...{fname} {lname}.')\n",
    "agent_name('James')\n",
    "agent_name('Spongebob', 'Squarepants')"
   ]
  },
  {
   "cell_type": "code",
   "execution_count": null,
   "metadata": {},
   "outputs": [],
   "source": [
    "# default parameters must always come\n",
    "#after non-default parameters at all times\n",
    "#forever and ever...or else\n",
    "\n"
   ]
  },
  {
   "cell_type": "markdown",
   "metadata": {},
   "source": [
    "##### Making an Argument Optional"
   ]
  },
  {
   "cell_type": "code",
   "execution_count": 11,
   "metadata": {},
   "outputs": [
    {
     "name": "stdout",
     "output_type": "stream",
     "text": [
      "The horse's name is Bill the Pony\n",
      "The horse's name is Stallion  Ed\n"
     ]
    }
   ],
   "source": [
    "##empty string makes an argument optional\n",
    "\n",
    "def horse_name(first, middle='', last = 'Ed'):\n",
    "    print(f'The horse\\'s name is {first} {middle} {last}')\n",
    "          \n",
    "horse_name('Bill', 'the', 'Pony')\n",
    "horse_name('Stallion')\n",
    "          \n",
    "\n",
    "\n"
   ]
  },
  {
   "cell_type": "markdown",
   "metadata": {},
   "source": [
    "##### Keyword Arguments"
   ]
  },
  {
   "cell_type": "code",
   "execution_count": 14,
   "metadata": {},
   "outputs": [
    {
     "name": "stdout",
     "output_type": "stream",
     "text": [
      "Wow, there goes Batman with their cool power of money and I am pretty sure they are Bruce Wayne\n"
     ]
    }
   ],
   "source": [
    "#keyword arguments must follow positional arugments\n",
    "def show_hero(name, secret_identity, power='flying'):\n",
    "    return f'Wow, there goes {name} with their cool power of {power} and I am pretty sure they are {secret_identity}'\n",
    "\n",
    "##order doesnt matter if all arguments are keyword arguments\n",
    "print(show_hero(power='money', name='Batman', secret_identity='Bruce Wayne'))\n",
    "\n",
    "#Any argument with a “=“\n",
    "#needs to go behind arguments without “=“\n"
   ]
  },
  {
   "cell_type": "code",
   "execution_count": 15,
   "metadata": {},
   "outputs": [
    {
     "name": "stdout",
     "output_type": "stream",
     "text": [
      "here are some neat colors: yellow orange blue\n"
     ]
    }
   ],
   "source": [
    "my_fav = 'yellow'\n",
    "def print_colors(color1, color2, color3):\n",
    "    return f'here are some neat colors: {color1} {color2} {color3}'\n",
    "\n",
    "print(print_colors(my_fav, 'orange', 'blue'))\n",
    "\n"
   ]
  },
  {
   "cell_type": "markdown",
   "metadata": {},
   "source": [
    "# Creating a start, stop, step function"
   ]
  },
  {
   "cell_type": "code",
   "execution_count": 17,
   "metadata": {
    "scrolled": true
   },
   "outputs": [
    {
     "name": "stdout",
     "output_type": "stream",
     "text": [
      "([0, 1, 4, 9, 16, 25, 36, 49, 64, 81, 100, 121, 144, 169, 196, 225, 256, 289, 324, 361], 'Hey great job!')\n"
     ]
    }
   ],
   "source": [
    "def my_range(stop, start=0, step=1):\n",
    "    squared_nums = []\n",
    "    for i in range(start, stop, step):\n",
    "        squared_nums.append(i**2)\n",
    "    return squared_nums, 'Hey great job!'\n",
    "print(my_range(20))"
   ]
  },
  {
   "cell_type": "markdown",
   "metadata": {},
   "source": [
    "##### Returning Values"
   ]
  },
  {
   "cell_type": "code",
   "execution_count": 19,
   "metadata": {},
   "outputs": [
    {
     "data": {
      "text/plain": [
       "'Bulba Bulba'"
      ]
     },
     "execution_count": 19,
     "metadata": {},
     "output_type": "execute_result"
    }
   ],
   "source": [
    "poke_list = ['Charmander', 'Squirtle', 'Bulbasaur', 'Cyndaquil', 'Totodile', 'Chikorita']\n",
    "\n",
    "def find_bulbasaur(arr):\n",
    "    for poke in arr:\n",
    "        if poke == 'Bulbasaur':\n",
    "            return 'Bulba Bulba'\n",
    "    return 'No Bulbasaur, sad'\n",
    "find_bulbasaur(poke_list)\n",
    "    \n",
    "    \n",
    "    "
   ]
  },
  {
   "cell_type": "code",
   "execution_count": 20,
   "metadata": {},
   "outputs": [
    {
     "data": {
      "text/plain": [
       "'You caught a Bulbasaur!'"
      ]
     },
     "execution_count": 20,
     "metadata": {},
     "output_type": "execute_result"
    }
   ],
   "source": [
    "def is_bulbasaur(string):\n",
    "    if string == \"Bulba Bulba\":\n",
    "        return 'You caught a Bulbasaur!'\n",
    "    \n",
    "    return 'Oh! The Bulbasaur appeared to be caught..'\n",
    "\n",
    "##calling a function within a function\n",
    "is_bulbasaur(find_bulbasaur(poke_list))"
   ]
  },
  {
   "cell_type": "markdown",
   "metadata": {},
   "source": [
    "##### *args / **kwargs (keyword arguments)"
   ]
  },
  {
   "cell_type": "code",
   "execution_count": 21,
   "metadata": {},
   "outputs": [
    {
     "name": "stdout",
     "output_type": "stream",
     "text": [
      "These are my positional arguments: 1.lamp 2.speaker 3.Alex\n",
      "These are my args: ('Cheetor', 'mega man', 'mouse', 'monitor', 'bob ross drawing')\n",
      "These are my kwargs:\n",
      "language python\n",
      "cohort Rangers\n",
      "month June\n",
      "time very good\n"
     ]
    },
    {
     "data": {
      "text/plain": [
       "'That was a nice time, thanks for the mems'"
      ]
     },
     "execution_count": 21,
     "metadata": {},
     "output_type": "execute_result"
    }
   ],
   "source": [
    "#*args, **kwargs\n",
    "# *args stands for arguments and\n",
    "#will allow the function to take in any number of arguments\n",
    "# **kwargs stands for key word arguments and\n",
    "#will allow the function to take in any number of keyword arguments\n",
    "# if other parameters are present, args and kwargs must go last\n",
    "\n",
    "def print_args(pos_arg1, pos_arg2, pos_name, *args, **kwargs):\n",
    "    print(f'These are my positional arguments: 1.{pos_arg1} 2.{pos_arg2} 3.{pos_name}')\n",
    "    print(f'These are my args: {args}')\n",
    "    print('These are my kwargs:')\n",
    "    for key, value in kwargs.items():\n",
    "        print(key, value)\n",
    "    return 'That was a nice time, thanks for the mems'\n",
    "\n",
    "print_args('lamp', 'speaker', 'Alex', 'Cheetor', 'mega man', 'mouse', 'monitor', 'bob ross drawing', language='python', cohort='Rangers', month='June', time='very good')\n",
    "\n",
    "\n"
   ]
  },
  {
   "cell_type": "markdown",
   "metadata": {},
   "source": [
    "##### Docstring"
   ]
  },
  {
   "cell_type": "code",
   "execution_count": 25,
   "metadata": {},
   "outputs": [
    {
     "name": "stdout",
     "output_type": "stream",
     "text": [
      "alex\n",
      "eduardo\n",
      "hussain\n",
      "gus\n",
      "saraa\n",
      "marc\n",
      "\n",
      "        step1: pass in list\n",
      "        step2: ..profit?\n",
      "\n",
      "\n",
      "Help on function print_names in module __main__:\n",
      "\n",
      "print_names(arr)\n",
      "    print_names(arr)\n",
      "    Function requires a list to be passed in as arg\n",
      "    It will print the contents of list, should be strings\n",
      "\n"
     ]
    }
   ],
   "source": [
    "#docstrings are a really nice way to leave notes\n",
    "#about funciontality in your code\n",
    "#they provide instructions\n",
    "\n",
    "def print_names(arr):\n",
    "    \"\"\"\n",
    "    print_names(arr)\n",
    "    Function requires a list to be passed in as arg\n",
    "    It will print the contents of list, should be strings\n",
    "    \n",
    "    \"\"\"\n",
    "    #loop through list of names and print them\n",
    "    for name in arr:\n",
    "        print(name)\n",
    "    print('''\n",
    "        step1: pass in list\n",
    "        step2: ..profit?''')\n",
    "    return \"Look at all those great names!!\"\n",
    "\n",
    "print_names(['alex', 'eduardo', 'hussain', 'gus', 'saraa', 'marc'])\n",
    "\n",
    "print('\\n')\n",
    "help(print_names)\n",
    "\n",
    "    "
   ]
  },
  {
   "cell_type": "markdown",
   "metadata": {},
   "source": [
    "##### Using a User Function in a Loop"
   ]
  },
  {
   "cell_type": "code",
   "execution_count": 29,
   "metadata": {},
   "outputs": [
    {
     "name": "stdout",
     "output_type": "stream",
     "text": [
      "whats going on?nothing\n",
      "Are you ready to quit?no\n",
      "whats going on?nothing\n",
      "Are you ready to quit?yes\n",
      "have a nice time\n"
     ]
    }
   ],
   "source": [
    "def print_input(suggestion):\n",
    "    return f'I say heyeyeyeyeayaya {suggestion}'\n",
    "    \n",
    "# while True:\n",
    "#     ask = input('What\\'s going on?')\n",
    "        \n",
    "#     print(print_input(ask))\n",
    "        \n",
    "#     response = input('Are you ready to quit?')\n",
    "#     if response.lower() == 'yes':\n",
    "#         print('Okay, goodbye.')\n",
    "#         break\n",
    "\n",
    "\n",
    "#while loops should always be inside function like below\n",
    "def print_input(suggestion):\n",
    "    return f\"I say heyeyeyeye{suggestion}\"\n",
    "    \n",
    "    \n",
    "    \n",
    "def take_suggestion(function):\n",
    "    \n",
    "    while True:\n",
    "        ask = input(\"whats going on?\")\n",
    "        \n",
    "        function(ask)\n",
    "        \n",
    "        response = input(\"Are you ready to quit?\")\n",
    "        if response.lower() == 'yes':\n",
    "            print(\"have a nice time\")\n",
    "            break\n",
    "        \n",
    "    return\n",
    "    \n",
    "take_suggestion(print_input)"
   ]
  },
  {
   "cell_type": "code",
   "execution_count": null,
   "metadata": {
    "scrolled": true
   },
   "outputs": [],
   "source": [
    "def add_to_cart():\n",
    "    item = input('What would you like to add to your cart? ')\n",
    "    quantity = input('How many would you like to add? ')\n",
    "    \n",
    "    store[item] = quantity"
   ]
  },
  {
   "cell_type": "code",
   "execution_count": null,
   "metadata": {},
   "outputs": [],
   "source": []
  },
  {
   "cell_type": "markdown",
   "metadata": {},
   "source": [
    "## Function Exercises <br>\n",
    "### Exercise 1\n",
    "<p>Write a function that loops through a list of first_names and a list of last_names, combines the two and return a list of full_names</p>"
   ]
  },
  {
   "cell_type": "code",
   "execution_count": null,
   "metadata": {},
   "outputs": [],
   "source": []
  },
  {
   "cell_type": "code",
   "execution_count": 50,
   "metadata": {},
   "outputs": [
    {
     "name": "stdout",
     "output_type": "stream",
     "text": [
      "[5, 10, 15, 20, 3, 'John Smith', 'Evan Smith', 'Jordan Williams', 'Max Bell']\n"
     ]
    }
   ],
   "source": [
    "first_name = ['John', 'Evan', 'Jordan', 'Max']\n",
    "last_name = ['Smith', 'Smith', 'Williams', 'Bell']\n",
    "\n",
    "# Output: ['John Smith', 'Evan Smith', 'Jordan Williams', 'Max Bell']\n",
    "def full_name(arr1, arr2):\n",
    "#     output = [str(i)+str(i) for i in zip(first_name, last_name)]\n",
    "#     return output\n",
    "        for i in range(len(arr1)):\n",
    "            output.append(arr1[i] + ' ' + arr2[i])\n",
    "        return output\n",
    "\n",
    "    \n",
    "print(full_name(first_name, last_name))\n"
   ]
  },
  {
   "cell_type": "markdown",
   "metadata": {},
   "source": [
    "### Exercise 2\n",
    "Create a function that alters all values in the given list by subtracting 5 and then doubling them."
   ]
  },
  {
   "cell_type": "code",
   "execution_count": 28,
   "metadata": {},
   "outputs": [
    {
     "name": "stdout",
     "output_type": "stream",
     "text": [
      "[0, 10, 20, 30, -4]\n"
     ]
    }
   ],
   "source": [
    "input_list = [5,10,15,20,3]\n",
    "# output = [0,10,20,30,-4]\n",
    "\n",
    "\n",
    "def alter_value(arr):\n",
    "    for i in range(len(arr)):\n",
    "        arr[i] = (arr[i] - 5) * 2\n",
    "    return arr\n",
    "    \n",
    "print(alter_value(input_list))\n"
   ]
  },
  {
   "cell_type": "markdown",
   "metadata": {},
   "source": [
    "### Exercise 3\n",
    "Create a function that takes in a list of strings and filters out the strings that DO NOT contain vowels. "
   ]
  },
  {
   "cell_type": "code",
   "execution_count": null,
   "metadata": {},
   "outputs": [],
   "source": [
    "string_list = ['Sheldon','Pnny','Leonard','Hwrd','Rj','Amy','Strt']\n",
    "# output = ['Sheldon','Leonard','Amy']\n",
    "\n"
   ]
  },
  {
   "cell_type": "code",
   "execution_count": 30,
   "metadata": {},
   "outputs": [
    {
     "name": "stdout",
     "output_type": "stream",
     "text": [
      "['Sheldon', 'Leonard', 'Amy']\n"
     ]
    }
   ],
   "source": [
    "\n",
    "string_list = ['Sheldon','Pnny','Leonard','Hwrd','Rj','Amy','Strt']\n",
    "\n",
    "def vowels_here(arr):\n",
    "    vowels = ['a', 'e', 'i', 'o', 'u']\n",
    "    new_list = []\n",
    "    for name in arr:\n",
    "        for vowel in vowels:\n",
    "            if vowel in name.lower():\n",
    "                new_list.append(name)\n",
    "                break\n",
    "                \n",
    "    return new_list\n",
    "#     for string in range(len(arr)):\n",
    "#         if 'a' or 'e' or 'i' or 'o' or 'u' not in string.lower():\n",
    "#             arr.remove(string)\n",
    "#         return arr\n",
    "    \n",
    "print(vowels_here(string_list))"
   ]
  },
  {
   "cell_type": "code",
   "execution_count": null,
   "metadata": {},
   "outputs": [],
   "source": []
  },
  {
   "cell_type": "markdown",
   "metadata": {},
   "source": [
    "### Exercise 4\n",
    "Create a function that accepts a list as a parameter and returns a dictionary containing the list items as it's keys, and the number of times they appear in the list as the values"
   ]
  },
  {
   "cell_type": "code",
   "execution_count": 32,
   "metadata": {},
   "outputs": [
    {
     "name": "stdout",
     "output_type": "stream",
     "text": [
      "{'Harry': 3, 'Hermione': 2, 'Ron': 4, 'Dobby': 1, 'Draco': 1, 'Luna': 1}\n"
     ]
    }
   ],
   "source": [
    "example_list = [\"Harry\", 'Hermione','Harry','Ron','Dobby','Draco','Luna','Harry','Hermione','Ron','Ron','Ron']\n",
    "\n",
    "# output = {\n",
    "#     \"Harry\":3,\n",
    "#     \"Hermione\":2,\n",
    "#     \"Ron\":4,\n",
    "#     \"Dobby\":1,\n",
    "#     \"Draco\":1,\n",
    "#     \"Luna\": 1\n",
    "# }\n",
    "\n",
    "def how_many_times(arr):\n",
    "    students = {}\n",
    "    for i in arr:\n",
    "        if i not in students:\n",
    "            students[i] = 1\n",
    "        else:\n",
    "            students[i] += 1\n",
    "    return students\n",
    "    \n",
    "    \n",
    "    ##if i in students:\n",
    "#          students[i] += 1\n",
    "#     else:\n",
    "#         students = 1\n",
    "print(how_many_times(example_list))\n"
   ]
  },
  {
   "cell_type": "markdown",
   "metadata": {},
   "source": [
    "\n",
    "\n",
    "## Scope <br>\n",
    "<p>Scope refers to the ability to access variables, different types of scope include:<br>a) Global<br>b) Function (local)<br>c) Class (local)</p>"
   ]
  },
  {
   "cell_type": "code",
   "execution_count": 35,
   "metadata": {},
   "outputs": [
    {
     "name": "stdout",
     "output_type": "stream",
     "text": [
      "3\n",
      "Hello 3\n"
     ]
    }
   ],
   "source": [
    "# placement of variable declaration matters\n",
    "\n",
    "##global variable example\n",
    "number = 3\n",
    "##not confined to function or class\n",
    "\n",
    "def print_num():\n",
    "    return number\n",
    "\n",
    "def say_hello_num():\n",
    "    return f'Hello {number}'\n",
    "\n",
    "print(print_num())\n",
    "print(say_hello_num())\n",
    "\n",
    "##this one is confined to a function\n",
    "def square_nums(arr):\n",
    "    squared_list = []\n",
    "    for num in arr:\n",
    "        squared_list.append(num**2)\n",
    "    return squared_list\n",
    "\n",
    "##this one is confined to a class\n",
    "class Dog():\n",
    "    KIND_OF_DOG = 'Chihauhua Mix'\n",
    "    def __init__(self, color, name):\n",
    "        self.color = color\n",
    "        self.name = name\n"
   ]
  },
  {
   "cell_type": "markdown",
   "metadata": {},
   "source": [
    "## Modules"
   ]
  },
  {
   "cell_type": "markdown",
   "metadata": {},
   "source": [
    "##### Importing Entire Modules\n"
   ]
  },
  {
   "cell_type": "code",
   "execution_count": 39,
   "metadata": {},
   "outputs": [
    {
     "name": "stdout",
     "output_type": "stream",
     "text": [
      "4\n"
     ]
    }
   ],
   "source": [
    "## Modules\n",
    "import math\n",
    "\n",
    "\n",
    "num = 5\n",
    "num = 2\n",
    "\n",
    "print(math.ceil(7/2))\n",
    "\n"
   ]
  },
  {
   "cell_type": "markdown",
   "metadata": {},
   "source": [
    "##### Importing Methods Only"
   ]
  },
  {
   "cell_type": "code",
   "execution_count": 40,
   "metadata": {},
   "outputs": [
    {
     "name": "stdout",
     "output_type": "stream",
     "text": [
      "3.141592653589793\n",
      "3\n",
      "4\n"
     ]
    }
   ],
   "source": [
    "# from xxx import yyy\n",
    "#from math import floor\n",
    "from math import pi, floor, ceil\n",
    "\n",
    "print(pi)\n",
    "print(floor(pi))\n",
    "print(ceil(pi))\n"
   ]
  },
  {
   "cell_type": "markdown",
   "metadata": {},
   "source": [
    "##### Using the 'as' Keyword"
   ]
  },
  {
   "cell_type": "code",
   "execution_count": 41,
   "metadata": {},
   "outputs": [
    {
     "name": "stdout",
     "output_type": "stream",
     "text": [
      "3.141592653589793\n",
      "3\n",
      "4\n"
     ]
    }
   ],
   "source": [
    "#use as to rename the functions you import\n",
    "#from xxx import yyy as z\n",
    "from math import floor as f, pi as p, ceil as c\n",
    "print(p)\n",
    "print(f(p))\n",
    "print(c(p))"
   ]
  },
  {
   "cell_type": "markdown",
   "metadata": {},
   "source": [
    "##### Creating a Module"
   ]
  },
  {
   "cell_type": "code",
   "execution_count": 42,
   "metadata": {},
   "outputs": [
    {
     "name": "stdout",
     "output_type": "stream",
     "text": [
      "Hello Mr/Ms ryan...we've been waiting for you!\n"
     ]
    }
   ],
   "source": [
    "from module import printName as pn\n",
    "pn('ryan')\n"
   ]
  },
  {
   "cell_type": "code",
   "execution_count": 49,
   "metadata": {},
   "outputs": [
    {
     "name": "stdout",
     "output_type": "stream",
     "text": [
      "2400\n",
      "62.83185307179586\n"
     ]
    }
   ],
   "source": []
  },
  {
   "cell_type": "code",
   "execution_count": null,
   "metadata": {},
   "outputs": [],
   "source": []
  },
  {
   "cell_type": "markdown",
   "metadata": {},
   "source": [
    "# Homework Exercises"
   ]
  },
  {
   "cell_type": "markdown",
   "metadata": {},
   "source": [
    "### 1) Create a Module in VS Code and Import It into jupyter notebook <br>\n",
    "<p><b>Module should have the following capabilities:</b><br><br>\n",
    "1a) Has a function to calculate the square footage of a house <br>\n",
    "    <b>Reminder of Formula: Length X Width == Area</b><br>\n",
    "        <hr>\n",
    "1b) Has a function to calculate the circumference of a circle 2 Pi r <br><br>\n",
    "<b>Program in Jupyter Notebook should take in user input and use imported functions to calculate a circle's circumference or a houses square footage</b>\n",
    "</p>"
   ]
  },
  {
   "cell_type": "code",
   "execution_count": 3,
   "metadata": {},
   "outputs": [
    {
     "name": "stdout",
     "output_type": "stream",
     "text": [
      "2400\n",
      "62.83185307179586\n"
     ]
    }
   ],
   "source": [
    "import myfuncs\n",
    "\n",
    "print(myfuncs.ahouse(60,40))\n",
    "\n",
    "print(myfuncs.c_c(10))"
   ]
  },
  {
   "cell_type": "markdown",
   "metadata": {},
   "source": [
    "### 2) Build a Shopping Cart Function <br>\n",
    "<p><b>You can use either lists or dictionaries. The program should have the following capabilities:</b><br><br>\n",
    "1) Takes in input <br>\n",
    "2) Stores user input into a dictionary or list <br>\n",
    "3) The User can add or delete items <br>\n",
    "4) The User can see current shopping list <br>\n",
    "5) The program Loops until user 'quits' <br>\n",
    "6) Upon quiting the program, print out all items in the user's list <br>\n",
    "</p>"
   ]
  }
 ],
 "metadata": {
  "kernelspec": {
   "display_name": "Python 3 (ipykernel)",
   "language": "python",
   "name": "python3"
  },
  "language_info": {
   "codemirror_mode": {
    "name": "ipython",
    "version": 3
   },
   "file_extension": ".py",
   "mimetype": "text/x-python",
   "name": "python",
   "nbconvert_exporter": "python",
   "pygments_lexer": "ipython3",
   "version": "3.9.7"
  }
 },
 "nbformat": 4,
 "nbformat_minor": 2
}
